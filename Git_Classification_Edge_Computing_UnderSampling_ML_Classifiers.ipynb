{
  "nbformat": 4,
  "nbformat_minor": 0,
  "metadata": {
    "colab": {
      "name": "Git_Classification-Edge_Computing_UnderSampling_ML_Classifiers.ipynb",
      "provenance": [],
      "collapsed_sections": [],
      "include_colab_link": true
    },
    "kernelspec": {
      "name": "python3",
      "display_name": "Python 3"
    },
    "accelerator": "GPU"
  },
  "cells": [
    {
      "cell_type": "markdown",
      "metadata": {
        "id": "view-in-github",
        "colab_type": "text"
      },
      "source": [
        "<a href=\"https://colab.research.google.com/github/simranjita/DBAF/blob/main/Git_Classification_Edge_Computing_UnderSampling_ML_Classifiers.ipynb\" target=\"_parent\"><img src=\"https://colab.research.google.com/assets/colab-badge.svg\" alt=\"Open In Colab\"/></a>"
      ]
    },
    {
      "cell_type": "code",
      "metadata": {
        "id": "O0V41ZOMRPO4"
      },
      "source": [
        "from math import sqrt\n",
        "from numpy import concatenate\n",
        "\n",
        "#from matplotlib a pyplot\n",
        "from pandas import read_csv\n",
        "from numpy import savetxt\n",
        "from pandas import DataFrame\n",
        "from pandas import concat\n",
        "from sklearn.preprocessing import MinMaxScaler\n",
        "from sklearn.preprocessing import LabelEncoder\n",
        "from sklearn.metrics import mean_squared_error\n",
        "from keras.models import Sequential\n",
        "from keras.layers import Dense\n",
        "from keras.layers import LSTM\n",
        "import numpy as np\n",
        "from pandas import read_csv\n",
        "from datetime import datetime\n",
        "\n",
        " "
      ],
      "execution_count": null,
      "outputs": []
    },
    {
      "cell_type": "code",
      "metadata": {
        "id": "MSzksWnLR7x7",
        "colab": {
          "base_uri": "https://localhost:8080/"
        },
        "outputId": "20aee89c-8e28-40ac-c613-93134b2abe6e"
      },
      "source": [
        "# Load the Drive helper and mount\n",
        "from google.colab import drive\n",
        "\n",
        "# This will prompt for authorization.\n",
        "drive.mount('/content/drive')"
      ],
      "execution_count": null,
      "outputs": [
        {
          "output_type": "stream",
          "name": "stdout",
          "text": [
            "Drive already mounted at /content/drive; to attempt to forcibly remount, call drive.mount(\"/content/drive\", force_remount=True).\n"
          ]
        }
      ]
    },
    {
      "cell_type": "code",
      "metadata": {
        "id": "rJjJyTqXRpsE"
      },
      "source": [
        "from keras.utils.np_utils import to_categorical\n",
        "from sklearn import preprocessing\n",
        "\n",
        "dataset = read_csv(r'/content/drive/MyDrive/Input/mhealth_raw_data_refined.csv')\n",
        "dataset = np.array(dataset)\n",
        "classes=dataset[:,-1]\n",
        "dataset=np.delete(dataset,-1,axis=1)\n",
        "#classes = to_categorical(classes)\n",
        "dataset= preprocessing.scale(dataset)"
      ],
      "execution_count": null,
      "outputs": []
    },
    {
      "cell_type": "code",
      "source": [
        "classes"
      ],
      "metadata": {
        "colab": {
          "base_uri": "https://localhost:8080/"
        },
        "id": "OHFZaSy8S0zL",
        "outputId": "43cfccf8-4013-4cd1-9f6d-536a9a265810"
      },
      "execution_count": null,
      "outputs": [
        {
          "output_type": "execute_result",
          "data": {
            "text/plain": [
              "array([0., 0., 0., ..., 0., 0., 0.])"
            ]
          },
          "metadata": {},
          "execution_count": 4
        }
      ]
    },
    {
      "cell_type": "code",
      "source": [
        "from collections import Counter\n",
        "counter = Counter(classes)\n",
        "print(counter)"
      ],
      "metadata": {
        "colab": {
          "base_uri": "https://localhost:8080/"
        },
        "id": "c1p7jyEgORUz",
        "outputId": "bb1c03ed-a029-48cf-ce2e-89605f9ea6ec"
      },
      "execution_count": null,
      "outputs": [
        {
          "output_type": "stream",
          "name": "stdout",
          "text": [
            "Counter({0.0: 749361, 1.0: 27648, 2.0: 27648, 3.0: 27648, 4.0: 27648, 9.0: 27648, 7.0: 26676, 8.0: 26470, 6.0: 25857, 10.0: 24576, 11.0: 24576, 5.0: 24576, 12.0: 8243})\n"
          ]
        }
      ]
    },
    {
      "cell_type": "code",
      "source": [
        "#Deleting\n",
        "\n",
        "result = np.where(classes == 0)[0]\n",
        "gt=np.delete(classes,result)\n",
        "classes=gt\n",
        "dataset=np.delete(dataset,result,axis=0)"
      ],
      "metadata": {
        "id": "j06LiUmIO5Je"
      },
      "execution_count": null,
      "outputs": []
    },
    {
      "cell_type": "code",
      "source": [
        "classes=classes-1"
      ],
      "metadata": {
        "id": "V2gG5DELRnoY"
      },
      "execution_count": null,
      "outputs": []
    },
    {
      "cell_type": "code",
      "source": [
        "classes"
      ],
      "metadata": {
        "colab": {
          "base_uri": "https://localhost:8080/"
        },
        "id": "64D_D3R8XhCM",
        "outputId": "3793f002-58ad-4fd2-e90c-0a3725bf7b51"
      },
      "execution_count": null,
      "outputs": [
        {
          "output_type": "execute_result",
          "data": {
            "text/plain": [
              "array([0., 0., 0., ..., 8., 8., 8.])"
            ]
          },
          "metadata": {},
          "execution_count": 120
        }
      ]
    },
    {
      "cell_type": "code",
      "source": [
        "counter = Counter(classes)\n",
        "print(counter)"
      ],
      "metadata": {
        "colab": {
          "base_uri": "https://localhost:8080/"
        },
        "id": "P0ehSDR-R64R",
        "outputId": "fff2d9d8-b705-4cb1-c73d-ed1b3bd5235b"
      },
      "execution_count": null,
      "outputs": [
        {
          "output_type": "stream",
          "name": "stdout",
          "text": [
            "Counter({0.0: 27648, 1.0: 27648, 2.0: 27648, 3.0: 27648, 8.0: 27648, 6.0: 26676, 7.0: 26470, 5.0: 25857, 9.0: 24576, 10.0: 24576, 4.0: 24576, 11.0: 8243})\n"
          ]
        }
      ]
    },
    {
      "cell_type": "markdown",
      "source": [
        "# For Undersampling"
      ],
      "metadata": {
        "id": "Ejd_X7cQA6-N"
      }
    },
    {
      "cell_type": "code",
      "source": [
        "from imblearn.over_sampling import SMOTE\n",
        "from imblearn.under_sampling import RandomUnderSampler\n",
        "k=8243\n",
        "undersample = RandomUnderSampler(sampling_strategy={0: k, 1: k, 2: k, 3: k, 4: k, 5: k,6: k, 7: k, 8: k, 9: k, 10:k, 11:k})\n",
        "dataset, classes = undersample.fit_resample(dataset, classes)"
      ],
      "metadata": {
        "id": "W-XmvGqmX5Y9"
      },
      "execution_count": null,
      "outputs": []
    },
    {
      "cell_type": "code",
      "source": [
        ""
      ],
      "metadata": {
        "id": "8T-0A0Njyqov"
      },
      "execution_count": null,
      "outputs": []
    },
    {
      "cell_type": "code",
      "source": [
        "classes=np.array(classes)"
      ],
      "metadata": {
        "id": "m4K3qdq_weHB"
      },
      "execution_count": null,
      "outputs": []
    },
    {
      "cell_type": "code",
      "source": [
        "from collections import Counter\n",
        "\n",
        "counter = Counter(classes)\n",
        "print(counter)"
      ],
      "metadata": {
        "id": "1e2iyFurYDm3"
      },
      "execution_count": null,
      "outputs": []
    },
    {
      "cell_type": "code",
      "source": [
        "from sklearn.preprocessing import OneHotEncoder \n",
        "onehotencoder = OneHotEncoder() \n",
        "y = onehotencoder.fit_transform(np.array(classes).reshape(-1,1)).toarray()\n",
        "classes=y"
      ],
      "metadata": {
        "id": "gsvMH4AcTpvB"
      },
      "execution_count": null,
      "outputs": []
    },
    {
      "cell_type": "code",
      "metadata": {
        "id": "_QO8_MPKRc75",
        "colab": {
          "base_uri": "https://localhost:8080/"
        },
        "outputId": "1dcd73d1-f577-4176-fa7a-63af4ff6a07c"
      },
      "source": [
        "from sklearn.model_selection import train_test_split\n",
        "train_X, test_X, train_y, test_y = train_test_split(dataset,classes, test_size=0.50)\n",
        "print(train_X.shape, train_y.shape, test_X.shape, test_y.shape)"
      ],
      "execution_count": null,
      "outputs": [
        {
          "output_type": "stream",
          "name": "stdout",
          "text": [
            "(6000, 12) (6000,) (6000, 12) (6000,)\n"
          ]
        }
      ]
    },
    {
      "cell_type": "markdown",
      "source": [
        "## Random Forest"
      ],
      "metadata": {
        "id": "UXrLJw1yr4Vs"
      }
    },
    {
      "cell_type": "code",
      "source": [
        "from sklearn.ensemble import RandomForestClassifier\n",
        "\n",
        "clf = RandomForestClassifier(max_depth=150, random_state=0)\n",
        "clf.fit(train_X, train_y)"
      ],
      "metadata": {
        "id": "JTbI35kbiWam"
      },
      "execution_count": null,
      "outputs": []
    },
    {
      "cell_type": "code",
      "source": [
        "Y_pred_test = clf.predict(test_X)\n",
        "#y_pred_test = np.argmax(Y_pred_test, axis=1)\n",
        "\n",
        "y_pred_test=Y_pred_test\n",
        "\n",
        "from sklearn.preprocessing import OneHotEncoder \n",
        "onehotencoder = OneHotEncoder() \n",
        "y_pred_test = onehotencoder.fit_transform(np.array(y_pred_test).reshape(-1,1)).toarray()\n",
        "\n",
        "from sklearn.metrics import accuracy_score\n",
        "from sklearn.metrics import classification_report\n",
        "import pandas\n",
        "print(classification_report(test_y,  y_pred_test))\n",
        "\n",
        "\n",
        "from sklearn.metrics import confusion_matrix\n",
        "\n",
        "#cm = confusion_matrix(test_y,  y_pred_test)\n",
        "#print(cm)\n",
        "accuracy_score(test_y, y_pred_test)*100"
      ],
      "metadata": {
        "id": "kq_puDNwzDIu"
      },
      "execution_count": null,
      "outputs": []
    },
    {
      "cell_type": "markdown",
      "source": [
        "## SVM"
      ],
      "metadata": {
        "id": "WN6X52K9r9JV"
      }
    },
    {
      "cell_type": "code",
      "source": [
        "from sklearn.svm import SVC\n",
        "from sklearn import svm\n",
        "\n",
        "clf = svm.SVC()\n",
        "clf.fit(train_X, train_y)"
      ],
      "metadata": {
        "colab": {
          "base_uri": "https://localhost:8080/"
        },
        "id": "tvfSUXgGGwH7",
        "outputId": "6af22e68-0589-4405-eae8-21db58849cd6"
      },
      "execution_count": null,
      "outputs": [
        {
          "output_type": "execute_result",
          "data": {
            "text/plain": [
              "SVC()"
            ]
          },
          "metadata": {},
          "execution_count": 277
        }
      ]
    },
    {
      "cell_type": "code",
      "source": [
        "Y_pred_test = clf.predict(test_X)\n",
        "#y_pred_test = np.argmax(Y_pred_test, axis=1)\n",
        "\n",
        "y_pred_test=Y_pred_test\n",
        "\n",
        "from sklearn.preprocessing import OneHotEncoder \n",
        "onehotencoder = OneHotEncoder() \n",
        "y_pred_test = onehotencoder.fit_transform(np.array(y_pred_test).reshape(-1,1)).toarray()\n",
        "\n",
        "from sklearn.metrics import accuracy_score\n",
        "from sklearn.metrics import classification_report\n",
        "import pandas\n",
        "print(classification_report(test_y,  y_pred_test))\n",
        "\n",
        "\n",
        "from sklearn.metrics import confusion_matrix\n",
        "\n",
        "#cm = confusion_matrix(test_y,  y_pred_test)\n",
        "#print(cm)\n",
        "accuracy_score(test_y, y_pred_test)*100"
      ],
      "metadata": {
        "id": "olsbQ2iYzCOl"
      },
      "execution_count": null,
      "outputs": []
    },
    {
      "cell_type": "markdown",
      "source": [
        "## Decision Trees"
      ],
      "metadata": {
        "id": "wwl4qPj9sCsl"
      }
    },
    {
      "cell_type": "code",
      "source": [
        "from sklearn.tree import DecisionTreeClassifier\n",
        "clf = DecisionTreeClassifier(random_state=0)\n",
        "clf.fit(train_X, train_y)"
      ],
      "metadata": {
        "colab": {
          "base_uri": "https://localhost:8080/"
        },
        "id": "Ow2swdFQqwg4",
        "outputId": "4f8bf4de-5b5e-44c5-9c5f-5b9261e22f56"
      },
      "execution_count": null,
      "outputs": [
        {
          "output_type": "execute_result",
          "data": {
            "text/plain": [
              "DecisionTreeClassifier(random_state=0)"
            ]
          },
          "metadata": {},
          "execution_count": 383
        }
      ]
    },
    {
      "cell_type": "code",
      "metadata": {
        "id": "NGW9ZoaQ1zaf"
      },
      "source": [
        "Y_pred_test = clf.predict(test_X)\n",
        "#y_pred_test = np.argmax(Y_pred_test, axis=1)\n",
        "\n",
        "y_pred_test=Y_pred_test\n",
        "\n",
        "from sklearn.preprocessing import OneHotEncoder \n",
        "onehotencoder = OneHotEncoder() \n",
        "y_pred_test = onehotencoder.fit_transform(np.array(y_pred_test).reshape(-1,1)).toarray()\n",
        "\n",
        "from sklearn.metrics import accuracy_score\n",
        "from sklearn.metrics import classification_report\n",
        "import pandas\n",
        "print(classification_report(test_y,  y_pred_test))\n",
        "\n",
        "\n",
        "from sklearn.metrics import confusion_matrix\n",
        "\n",
        "#cm = confusion_matrix(test_y,  y_pred_test)\n",
        "#print(cm)\n",
        "accuracy_score(test_y, y_pred_test)*100"
      ],
      "execution_count": null,
      "outputs": []
    }
  ]
}