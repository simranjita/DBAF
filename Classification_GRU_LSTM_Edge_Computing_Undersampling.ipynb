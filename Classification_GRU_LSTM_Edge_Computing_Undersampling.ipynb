{
  "nbformat": 4,
  "nbformat_minor": 0,
  "metadata": {
    "colab": {
      "name": "Classification-GRU/LSTM_Edge_Computing_Undersampling.ipynb",
      "provenance": [],
      "collapsed_sections": [],
      "include_colab_link": true
    },
    "kernelspec": {
      "name": "python3",
      "display_name": "Python 3"
    },
    "accelerator": "GPU"
  },
  "cells": [
    {
      "cell_type": "markdown",
      "metadata": {
        "id": "view-in-github",
        "colab_type": "text"
      },
      "source": [
        "<a href=\"https://colab.research.google.com/github/simranjita/DBAF/blob/main/Classification_GRU_LSTM_Edge_Computing_Undersampling.ipynb\" target=\"_parent\"><img src=\"https://colab.research.google.com/assets/colab-badge.svg\" alt=\"Open In Colab\"/></a>"
      ]
    },
    {
      "cell_type": "code",
      "metadata": {
        "id": "O0V41ZOMRPO4"
      },
      "source": [
        "from math import sqrt\n",
        "from numpy import concatenate\n",
        "\n",
        "#from matplotlib a pyplot\n",
        "from pandas import read_csv\n",
        "from numpy import savetxt\n",
        "from pandas import DataFrame\n",
        "from pandas import concat\n",
        "from sklearn.preprocessing import MinMaxScaler\n",
        "from sklearn.preprocessing import LabelEncoder\n",
        "from sklearn.metrics import mean_squared_error\n",
        "from keras.models import Sequential\n",
        "from keras.layers import Dense\n",
        "from keras.layers import LSTM\n",
        "import numpy as np\n",
        "from pandas import read_csv\n",
        "from datetime import datetime\n",
        "\n",
        " "
      ],
      "execution_count": null,
      "outputs": []
    },
    {
      "cell_type": "code",
      "metadata": {
        "id": "MSzksWnLR7x7",
        "colab": {
          "base_uri": "https://localhost:8080/"
        },
        "outputId": "7dd88199-267f-4fd9-b93e-3252cfba09b4"
      },
      "source": [
        "# Load the Drive helper and mount\n",
        "from google.colab import drive\n",
        "\n",
        "# This will prompt for authorization.\n",
        "drive.mount('/content/drive')"
      ],
      "execution_count": null,
      "outputs": [
        {
          "output_type": "stream",
          "name": "stdout",
          "text": [
            "Mounted at /content/drive\n"
          ]
        }
      ]
    },
    {
      "cell_type": "code",
      "metadata": {
        "id": "rJjJyTqXRpsE"
      },
      "source": [
        "from keras.utils.np_utils import to_categorical\n",
        "from sklearn import preprocessing\n",
        "\n",
        "dataset = read_csv(r'/content/drive/MyDrive/Input/mhealth_raw_data_refined.csv')\n",
        "dataset = np.array(dataset)\n",
        "classes=dataset[:,-1]\n",
        "dataset=np.delete(dataset,-1,axis=1)\n",
        "#classes = to_categorical(classes)\n",
        "dataset= preprocessing.scale(dataset)"
      ],
      "execution_count": null,
      "outputs": []
    },
    {
      "cell_type": "code",
      "source": [
        "classes"
      ],
      "metadata": {
        "colab": {
          "base_uri": "https://localhost:8080/"
        },
        "id": "OHFZaSy8S0zL",
        "outputId": "97ba0be7-45d0-4946-d99b-829bcd09c7fe"
      },
      "execution_count": null,
      "outputs": [
        {
          "output_type": "execute_result",
          "data": {
            "text/plain": [
              "array([0., 0., 0., ..., 0., 0., 0.])"
            ]
          },
          "metadata": {},
          "execution_count": 4
        }
      ]
    },
    {
      "cell_type": "code",
      "source": [
        "from collections import Counter\n",
        "counter = Counter(classes)\n",
        "print(counter)"
      ],
      "metadata": {
        "colab": {
          "base_uri": "https://localhost:8080/"
        },
        "id": "c1p7jyEgORUz",
        "outputId": "43665503-ac86-4b63-ae1c-aba5854f9802"
      },
      "execution_count": null,
      "outputs": [
        {
          "output_type": "stream",
          "name": "stdout",
          "text": [
            "Counter({0.0: 27648, 1.0: 27648, 2.0: 27648, 3.0: 27648, 5.0: 27648, 6.0: 27648, 7.0: 27648, 8.0: 27648, 9.0: 27648, 10.0: 27648, 11.0: 27648, 4.0: 27648})\n"
          ]
        }
      ]
    },
    {
      "cell_type": "code",
      "source": [
        "#Deleting\n",
        "\n",
        "result = np.where(classes == 0)[0]\n",
        "gt=np.delete(classes,result)\n",
        "classes=gt\n",
        "dataset=np.delete(dataset,result,axis=0)"
      ],
      "metadata": {
        "id": "j06LiUmIO5Je"
      },
      "execution_count": null,
      "outputs": []
    },
    {
      "cell_type": "code",
      "source": [
        "classes=classes-1"
      ],
      "metadata": {
        "id": "V2gG5DELRnoY"
      },
      "execution_count": null,
      "outputs": []
    },
    {
      "cell_type": "code",
      "source": [
        "classes"
      ],
      "metadata": {
        "colab": {
          "base_uri": "https://localhost:8080/"
        },
        "id": "64D_D3R8XhCM",
        "outputId": "cbdf880d-9f51-476f-b67a-8e4936a5b4a3"
      },
      "execution_count": null,
      "outputs": [
        {
          "output_type": "execute_result",
          "data": {
            "text/plain": [
              "array([0., 0., 0., ..., 8., 8., 8.])"
            ]
          },
          "metadata": {},
          "execution_count": 8
        }
      ]
    },
    {
      "cell_type": "code",
      "source": [
        "counter = Counter(classes)\n",
        "print(counter)"
      ],
      "metadata": {
        "colab": {
          "base_uri": "https://localhost:8080/"
        },
        "id": "P0ehSDR-R64R",
        "outputId": "6be54aa9-0fb7-46ca-b6ed-d907cede1554"
      },
      "execution_count": null,
      "outputs": [
        {
          "output_type": "stream",
          "name": "stdout",
          "text": [
            "Counter({0.0: 27648, 1.0: 27648, 2.0: 27648, 3.0: 27648, 8.0: 27648, 6.0: 26676, 7.0: 26470, 5.0: 25857, 9.0: 24576, 10.0: 24576, 4.0: 24576, 11.0: 8243})\n"
          ]
        }
      ]
    },
    {
      "cell_type": "markdown",
      "source": [
        "# For Oversampling "
      ],
      "metadata": {
        "id": "c_OgAMqeAnkf"
      }
    },
    {
      "cell_type": "code",
      "source": [
        "\n",
        "from imblearn.over_sampling import SMOTE\n",
        "oversample = SMOTE()\n",
        "dataset, classes = oversample.fit_resample(dataset, classes)\n",
        "counter = Counter(classes)\n",
        "print(counter)"
      ],
      "metadata": {
        "colab": {
          "base_uri": "https://localhost:8080/"
        },
        "id": "1OSsBjsKAsPm",
        "outputId": "ba25a39a-6ce1-4716-cea2-bcff146d994d"
      },
      "execution_count": null,
      "outputs": [
        {
          "output_type": "stream",
          "name": "stdout",
          "text": [
            "Counter({0.0: 27648, 1.0: 27648, 2.0: 27648, 3.0: 27648, 5.0: 27648, 6.0: 27648, 7.0: 27648, 8.0: 27648, 9.0: 27648, 10.0: 27648, 11.0: 27648, 4.0: 27648})\n"
          ]
        }
      ]
    },
    {
      "cell_type": "code",
      "source": [
        "classes"
      ],
      "metadata": {
        "colab": {
          "base_uri": "https://localhost:8080/"
        },
        "id": "Ho_BX73Dg0VH",
        "outputId": "268f874a-6c0e-43d4-d533-2f72e090a970"
      },
      "execution_count": null,
      "outputs": [
        {
          "output_type": "execute_result",
          "data": {
            "text/plain": [
              "array([ 0.,  0.,  0., ..., 11., 11., 11.])"
            ]
          },
          "metadata": {},
          "execution_count": 12
        }
      ]
    },
    {
      "cell_type": "code",
      "source": [
        "classes.shape"
      ],
      "metadata": {
        "colab": {
          "base_uri": "https://localhost:8080/"
        },
        "id": "esNv9LJ7YqXE",
        "outputId": "07efd49c-5cba-49fd-ffc3-dc17ad3f3e8d"
      },
      "execution_count": null,
      "outputs": [
        {
          "output_type": "execute_result",
          "data": {
            "text/plain": [
              "(98916,)"
            ]
          },
          "metadata": {},
          "execution_count": 13
        }
      ]
    },
    {
      "cell_type": "code",
      "source": [
        "from sklearn.preprocessing import OneHotEncoder \n",
        "onehotencoder = OneHotEncoder() \n",
        "y = onehotencoder.fit_transform(np.array(classes).reshape(-1,1)).toarray()\n",
        "classes=y"
      ],
      "metadata": {
        "id": "gsvMH4AcTpvB"
      },
      "execution_count": null,
      "outputs": []
    },
    {
      "cell_type": "code",
      "metadata": {
        "id": "_QO8_MPKRc75",
        "colab": {
          "base_uri": "https://localhost:8080/"
        },
        "outputId": "87b8556e-396f-4190-a192-7baca24e4f03"
      },
      "source": [
        "from sklearn.model_selection import train_test_split\n",
        "\n",
        "train_X, test_X, train_y, test_y = train_test_split(dataset,classes, test_size=0.25, random_state=42)\n",
        "train_X = train_X.reshape((train_X.shape[0], 1, train_X.shape[1]))\n",
        "test_X = test_X.reshape((test_X.shape[0], 1, test_X.shape[1]))\n",
        "print(train_X.shape, train_y.shape, test_X.shape, test_y.shape)\n",
        "\n",
        "      \n"
      ],
      "execution_count": null,
      "outputs": [
        {
          "output_type": "stream",
          "name": "stdout",
          "text": [
            "(248832, 1, 12) (248832, 12) (82944, 1, 12) (82944, 12)\n"
          ]
        }
      ]
    },
    {
      "cell_type": "markdown",
      "source": [
        "## LSTM"
      ],
      "metadata": {
        "id": "ps91haJfxVq6"
      }
    },
    {
      "cell_type": "code",
      "source": [
        "loss='categorical_crossentropy'\n",
        "number_of_classes=train_y.shape[1]\n",
        "metrics=['accuracy']\n",
        "model = Sequential()\n",
        "model.add(LSTM(150, input_shape=(train_X.shape[1], train_X.shape[2]),dropout=0.10))\n",
        "model.add(Dense(number_of_classes, activation='softmax'))\n",
        "model.compile(loss=loss, optimizer='adam', metrics=metrics)\n",
        "filepath = \"/content/drive/MyDrive/Input/best-model.hdf5\"\n",
        "checkpoint = ModelCheckpoint(filepath, monitor='acc', verbose=1, save_best_only=True, mode='max')\n",
        "callbacks_list = [checkpoint]\n",
        "model.summary()\n",
        "history = model.fit(train_X, train_y, validation_split=0.25, epochs=50, verbose=1, callbacks=callbacks_list)\n"
      ],
      "metadata": {
        "id": "GVEGtKBjxReX"
      },
      "execution_count": null,
      "outputs": []
    },
    {
      "cell_type": "code",
      "source": [
        "# load best weights\n",
        "model.load_weights(\"/content/drive/MyDrive/Input/best-model.hdf5\")\n",
        "model.compile(loss='categorical_crossentropy', optimizer='adam', metrics=['accuracy'])\n",
        "Y_pred_test = model.predict(test_X)\n",
        "y_pred_test = np.argmax(Y_pred_test, axis=1)\n",
        "\n",
        "from sklearn.preprocessing import OneHotEncoder \n",
        "onehotencoder = OneHotEncoder() \n",
        "y_pred_test = onehotencoder.fit_transform(np.array(y_pred_test).reshape(-1,1)).toarray()\n",
        "\n",
        "from sklearn.metrics import accuracy_score\n",
        "from sklearn.metrics import classification_report\n",
        "\n",
        "print(classification_report(test_y,  y_pred_test))\n",
        "from sklearn.metrics import confusion_matrix\n",
        "\n",
        "#cm = confusion_matrix(test_y,  y_pred_test)\n",
        "#print(cm)\n",
        "accuracy_score(test_y, y_pred_test)*100"
      ],
      "metadata": {
        "id": "_f888knAxps6"
      },
      "execution_count": null,
      "outputs": []
    },
    {
      "cell_type": "markdown",
      "source": [
        "## GRU"
      ],
      "metadata": {
        "id": "PNgqq8t1xZcc"
      }
    },
    {
      "cell_type": "code",
      "source": [
        "from keras.callbacks import ModelCheckpoint\n",
        "from keras.layers import GRU\n",
        "\n",
        "loss='categorical_crossentropy'\n",
        "number_of_classes=train_y.shape[1]\n",
        "metrics=['accuracy']\n",
        "model = Sequential()\n",
        "model.add(GRU(150, input_shape=(train_X.shape[1], train_X.shape[2]),dropout=0.10))\n",
        "model.add(Dense(number_of_classes, activation='softmax'))\n",
        "model.compile(loss=loss, optimizer='adam', metrics=metrics)\n",
        "filepath = \"/content/drive/MyDrive/Input/best-model.hdf5\"\n",
        "checkpoint = ModelCheckpoint(filepath, monitor='acc', verbose=1, save_best_only=True, mode='max')\n",
        "callbacks_list = [checkpoint]\n",
        "model.summary()\n",
        "history = model.fit(train_X, train_y, validation_split=0.25, epochs=50, verbose=1, callbacks=callbacks_list)\n"
      ],
      "metadata": {
        "id": "JTbI35kbiWam"
      },
      "execution_count": null,
      "outputs": []
    },
    {
      "cell_type": "code",
      "source": [
        "# load best weights\n",
        "model.load_weights(\"/content/drive/MyDrive/Input/best-model.hdf5\")\n",
        "model.compile(loss='categorical_crossentropy', optimizer='adam', metrics=['accuracy'])\n",
        "Y_pred_test = model.predict(test_X)\n",
        "y_pred_test = np.argmax(Y_pred_test, axis=1)\n",
        "\n",
        "from sklearn.preprocessing import OneHotEncoder \n",
        "onehotencoder = OneHotEncoder() \n",
        "y_pred_test = onehotencoder.fit_transform(np.array(y_pred_test).reshape(-1,1)).toarray()\n",
        "\n",
        "from sklearn.metrics import accuracy_score\n",
        "from sklearn.metrics import classification_report\n",
        "\n",
        "print(classification_report(test_y,  y_pred_test))\n",
        "from sklearn.metrics import confusion_matrix\n",
        "\n",
        "#cm = confusion_matrix(test_y,  y_pred_test)\n",
        "#print(cm)\n",
        "accuracy_score(test_y, y_pred_test)*100"
      ],
      "metadata": {
        "id": "AzpnZbApYxWK"
      },
      "execution_count": null,
      "outputs": []
    },
    {
      "cell_type": "code",
      "metadata": {
        "id": "NGW9ZoaQ1zaf"
      },
      "source": [
        "\n"
      ],
      "execution_count": null,
      "outputs": []
    },
    {
      "cell_type": "code",
      "source": [
        ""
      ],
      "metadata": {
        "id": "o-p1InJhsmd6"
      },
      "execution_count": null,
      "outputs": []
    }
  ]
}